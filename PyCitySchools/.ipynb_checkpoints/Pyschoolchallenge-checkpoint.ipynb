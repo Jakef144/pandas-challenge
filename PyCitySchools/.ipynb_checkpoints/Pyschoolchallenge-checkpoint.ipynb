{
 "cells": [
  {
   "cell_type": "code",
   "execution_count": 3,
   "id": "ce18868a-7a82-4a99-86d1-ae8def30478b",
   "metadata": {},
   "outputs": [
    {
     "ename": "SyntaxError",
     "evalue": "invalid syntax (1485073281.py, line 10)",
     "output_type": "error",
     "traceback": [
      "\u001b[1;36m  Cell \u001b[1;32mIn[3], line 10\u001b[1;36m\u001b[0m\n\u001b[1;33m    school_data pd.read_csv(school_data_to_load)\u001b[0m\n\u001b[1;37m                ^\u001b[0m\n\u001b[1;31mSyntaxError\u001b[0m\u001b[1;31m:\u001b[0m invalid syntax\n"
     ]
    }
   ],
   "source": [
    "# Standard init\n",
    "import pandas as pd\n",
    "from pathlib import path \n",
    "\n",
    "# Files to load\n",
    "school_data_to_load = path(\"PyCitySchools/Resources/schools_complete.csv\")\n",
    "student_data_to_load = path(\"PyCitySchools/Resources/students_complete.csv\")\n",
    "\n",
    "# Reading the data and storing it\n",
    "school_data pd.read_csv(school_data_to_load)\n",
    "student_data pd.read_cdv(student_data_to_load)\n",
    "\n",
    "# Merge the data\n",
    "school_data_complete = pd.merge(student_data, school_data, how=\"left\", on=\"school name\")\n",
    "school_data_complete.head()\n",
    "                         \n"
   ]
  },
  {
   "cell_type": "code",
   "execution_count": null,
   "id": "38b12f54-818c-49e7-b9ff-59674e761869",
   "metadata": {},
   "outputs": [],
   "source": []
  }
 ],
 "metadata": {
  "kernelspec": {
   "display_name": "Python 3 (ipykernel)",
   "language": "python",
   "name": "python3"
  },
  "language_info": {
   "codemirror_mode": {
    "name": "ipython",
    "version": 3
   },
   "file_extension": ".py",
   "mimetype": "text/x-python",
   "name": "python",
   "nbconvert_exporter": "python",
   "pygments_lexer": "ipython3",
   "version": "3.12.4"
  }
 },
 "nbformat": 4,
 "nbformat_minor": 5
}
